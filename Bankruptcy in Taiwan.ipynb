{
 "cells": [
  {
   "cell_type": "markdown",
   "id": "361b7c4f-1fd2-4e6f-9e60-1d97f3e05afb",
   "metadata": {},
   "source": [
    "<font size=\"+3\"><strong>Project: Bankruptcy in Taiwan 🇹🇼</strong></font>"
   ]
  },
  {
   "cell_type": "markdown",
   "id": "9f9838b0",
   "metadata": {},
   "source": [
    "### Introduction\n",
    "In this project, we are going to create a model that predicts bankruptcy in Taiwan"
   ]
  },
  {
   "cell_type": "code",
   "execution_count": 3,
   "id": "bfb5048c-b025-4997-b391-16b806b43f8f",
   "metadata": {},
   "outputs": [],
   "source": [
    "# Import libraries here\n",
    "import gzip\n",
    "import json\n",
    "import pickle\n",
    "\n",
    "import ipywidgets as widgets\n",
    "import pandas as pd\n",
    "import wqet_grader\n",
    "from imblearn.over_sampling import RandomOverSampler\n",
    "from IPython.display import VimeoVideo\n",
    "from ipywidgets import interact\n",
    "from sklearn.ensemble import GradientBoostingClassifier\n",
    "from sklearn.impute import SimpleImputer\n",
    "from sklearn.metrics import (\n",
    "    ConfusionMatrixDisplay,\n",
    "    classification_report,\n",
    "    confusion_matrix,\n",
    ")\n",
    "import matplotlib.pyplot as plt\n",
    "from sklearn.ensemble import RandomForestClassifier\n",
    "\n",
    "\n",
    "from sklearn.model_selection import GridSearchCV, train_test_split, cross_val_score\n",
    "from sklearn.pipeline import make_pipeline\n",
    "from teaching_tools.widgets import ConfusionMatrixWidget\n",
    "from sklearn.base import ClassifierMixin\n",
    "from sklearn.pipeline import Pipeline"
   ]
  },
  {
   "cell_type": "markdown",
   "id": "341db403-0701-4165-b646-8d01cb154f8c",
   "metadata": {
    "deletable": false,
    "editable": false
   },
   "source": [
    "# Prepare Data"
   ]
  },
  {
   "cell_type": "markdown",
   "id": "74522f26-cf58-47a8-9f3e-20bb9d0b4324",
   "metadata": {
    "deletable": false,
    "editable": false
   },
   "source": [
    "## Import"
   ]
  },
  {
   "cell_type": "markdown",
   "id": "ad2b932d-e036-4918-9eeb-2d6b2530a3a5",
   "metadata": {},
   "source": [
    "Load the contents of the `\"data/taiwan-bankruptcy-data.json.gz\"` and assign it to the variable <code>taiwan_data</code>. \n",
    "\n",
    "Note that <code>taiwan_data</code> should be a dictionary. You'll create a DataFrame in a later task."
   ]
  },
  {
   "cell_type": "code",
   "execution_count": 4,
   "id": "b692714a-3837-449c-a617-3173951341e8",
   "metadata": {
    "deletable": false
   },
   "outputs": [
    {
     "name": "stdout",
     "output_type": "stream",
     "text": [
      "<class 'dict'>\n"
     ]
    }
   ],
   "source": [
    "# Load data file\n",
    "with gzip.open(\"data/taiwan-bankruptcy-data.json.gz\", \"r\") as data_file:\n",
    "    taiwan_data = json.load(data_file)\n",
    "\n",
    "\n",
    "print(type(taiwan_data))"
   ]
  },
  {
   "cell_type": "markdown",
   "id": "233a292e-d47c-42e4-b5d9-7262d707b58b",
   "metadata": {},
   "source": [
    "Extract the key names from <code>taiwan_data</code> and assign them to the variable <code>taiwan_data_keys</code>."
   ]
  },
  {
   "cell_type": "code",
   "execution_count": 5,
   "id": "3b5e0062-1286-40c3-8c04-8b89ecf3e2d1",
   "metadata": {
    "deletable": false
   },
   "outputs": [
    {
     "name": "stdout",
     "output_type": "stream",
     "text": [
      "dict_keys(['schema', 'metadata', 'observations'])\n"
     ]
    }
   ],
   "source": [
    "taiwan_data_keys = taiwan_data.keys()\n",
    "print(taiwan_data_keys)"
   ]
  },
  {
   "cell_type": "markdown",
   "id": "51e4cebc-dc66-4946-ad06-8e1b2e5b8e8a",
   "metadata": {},
   "source": [
    "Calculate how many companies are in `taiwan_data` and assign the result to `n_companies`. "
   ]
  },
  {
   "cell_type": "code",
   "execution_count": 6,
   "id": "0ef61745-634f-490b-bdbd-261336c4c7d9",
   "metadata": {
    "deletable": false
   },
   "outputs": [
    {
     "name": "stdout",
     "output_type": "stream",
     "text": [
      "6137\n"
     ]
    }
   ],
   "source": [
    "n_companies = len(taiwan_data[\"observations\"])\n",
    "print(n_companies)"
   ]
  },
  {
   "cell_type": "markdown",
   "id": "9ba47fc4-6b37-475d-9463-a7eb805ff8d6",
   "metadata": {},
   "source": [
    "Calculate the number of features associated with each company and assign the result to `n_features`."
   ]
  },
  {
   "cell_type": "code",
   "execution_count": 7,
   "id": "8b6d6d0e-1d03-41e4-852e-d3802317f345",
   "metadata": {
    "deletable": false
   },
   "outputs": [
    {
     "name": "stdout",
     "output_type": "stream",
     "text": [
      "{'id': 2, 'bankrupt': True, 'feat_1': 0.4642909375, 'feat_2': 0.53821413, 'feat_3': 0.5167300177, 'feat_4': 0.6102350855, 'feat_5': 0.6102350855, 'feat_6': 0.9989459782, 'feat_7': 0.7973801913, 'feat_8': 0.8093007257, 'feat_9': 0.3035564303, 'feat_10': 0.7815059743, 'feat_11': 0.0002897851, 'feat_12': 0.0, 'feat_13': 0.4618672572, 'feat_14': 0.0006470647, 'feat_15': 0.0, 'feat_16': 0.182251064, 'feat_17': 0.182251064, 'feat_18': 0.182251064, 'feat_19': 0.208943935, 'feat_20': 0.3181368041, 'feat_21': 0.021144335, 'feat_22': 0.0937220096, 'feat_23': 0.1699179031, 'feat_24': 0.0220801699, 'feat_25': 0.8480878838, 'feat_26': 0.6896929012, 'feat_27': 0.6897017016, 'feat_28': 0.2176195965, 'feat_29': 6110000000.0, 'feat_30': 0.0004430401, 'feat_31': 0.2645157781, 'feat_32': 0.376709139, 'feat_33': 0.0060162059, 'feat_34': 0.0040393668, 'feat_35': 0.6351724634, 'feat_36': 0.0125023938, 'feat_37': 0.1711763461, 'feat_38': 0.8288236539, 'feat_39': 0.0050588818, 'feat_40': 0.37676002, 'feat_41': 0.0058350395, 'feat_42': 0.0937433843, 'feat_43': 0.1689616168, 'feat_44': 0.3977248825, 'feat_45': 0.0644677661, 'feat_46': 0.0012863563, 'feat_47': 0.0049168079, 'feat_48': 9360000000.0, 'feat_49': 719000000.0, 'feat_50': 0.025483871, 'feat_51': 0.0068886506, 'feat_52': 0.3915899686, 'feat_53': 0.0123349721, 'feat_54': 0.751110917, 'feat_55': 0.1272360023, 'feat_56': 0.1824190541, 'feat_57': 0.014947727, 'feat_58': 0.0041360298, 'feat_59': 0.0013839101, 'feat_60': 0.0569628274, 'feat_61': 0.341105992, 'feat_62': 0.2896415764, 'feat_63': 0.0052096824, 'feat_64': 0.308588593, 'feat_65': 0.7319752885, 'feat_66': 0.3297401479, 'feat_67': 0.0239468187, 'feat_68': 0.9310652176, 'feat_69': 0.0022256083, 'feat_70': 0.02551586, 'feat_71': 0.0001065198, 'feat_72': 7700000000.0, 'feat_73': 0.5939155479, 'feat_74': 2490000000.0, 'feat_75': 0.6715699423, 'feat_76': 0.4688281283, 'feat_77': 0.308588593, 'feat_78': 0.3297401479, 'feat_79': 0.1209161058, 'feat_80': 0.6410999847, 'feat_81': 0.4590010533, 'feat_82': 0.5671013087, 'feat_83': 0.3141631352, 'feat_84': 0.0477752816, 'feat_85': 0, 'feat_86': 0.795297136, 'feat_87': 0.0083233018, 'feat_88': 0.6236517417, 'feat_89': 0.6102365259, 'feat_90': 0.839969268, 'feat_91': 0.2838459798, 'feat_92': 0.2645768198, 'feat_93': 0.5701749464, 'feat_94': 1, 'feat_95': 0.0207943063}\n"
     ]
    }
   ],
   "source": [
    "n_features = taiwan_data[\"observations\"][1]\n",
    "print(n_features)"
   ]
  },
  {
   "cell_type": "markdown",
   "id": "6df07bb9-5816-4532-a640-840e16023478",
   "metadata": {},
   "source": [
    "Create a `wrangle` function that takes as input the path of a compressed JSON file and returns the file's contents as a DataFrame. Be sure that the index of the DataFrame contains the ID of the companies. When your function is complete, use it to load the data into the DataFrame `df`."
   ]
  },
  {
   "cell_type": "code",
   "execution_count": 8,
   "id": "bec08e49-fa77-4b55-8c58-5c1dd090c07c",
   "metadata": {
    "deletable": false
   },
   "outputs": [],
   "source": [
    "# Create wrangle function\n",
    "def wrangle(filename):\n",
    "    #open compressed file and load into memory\n",
    "    with gzip.open(filename, \"r\") as f:\n",
    "        data = json.load(f)\n",
    "    \n",
    "    df = pd.DataFrame.from_dict(data[\"observations\"]).set_index(\"id\")\n",
    "    \n",
    "    \n",
    "    return df"
   ]
  },
  {
   "cell_type": "code",
   "execution_count": 9,
   "id": "dd06e4fb-25a2-4582-8051-99bc6f13e57e",
   "metadata": {
    "deletable": false
   },
   "outputs": [
    {
     "name": "stdout",
     "output_type": "stream",
     "text": [
      "df shape: (6137, 96)\n"
     ]
    },
    {
     "data": {
      "text/html": [
       "<div>\n",
       "<style scoped>\n",
       "    .dataframe tbody tr th:only-of-type {\n",
       "        vertical-align: middle;\n",
       "    }\n",
       "\n",
       "    .dataframe tbody tr th {\n",
       "        vertical-align: top;\n",
       "    }\n",
       "\n",
       "    .dataframe thead th {\n",
       "        text-align: right;\n",
       "    }\n",
       "</style>\n",
       "<table border=\"1\" class=\"dataframe\">\n",
       "  <thead>\n",
       "    <tr style=\"text-align: right;\">\n",
       "      <th></th>\n",
       "      <th>bankrupt</th>\n",
       "      <th>feat_1</th>\n",
       "      <th>feat_2</th>\n",
       "      <th>feat_3</th>\n",
       "      <th>feat_4</th>\n",
       "      <th>feat_5</th>\n",
       "      <th>feat_6</th>\n",
       "      <th>feat_7</th>\n",
       "      <th>feat_8</th>\n",
       "      <th>feat_9</th>\n",
       "      <th>...</th>\n",
       "      <th>feat_86</th>\n",
       "      <th>feat_87</th>\n",
       "      <th>feat_88</th>\n",
       "      <th>feat_89</th>\n",
       "      <th>feat_90</th>\n",
       "      <th>feat_91</th>\n",
       "      <th>feat_92</th>\n",
       "      <th>feat_93</th>\n",
       "      <th>feat_94</th>\n",
       "      <th>feat_95</th>\n",
       "    </tr>\n",
       "    <tr>\n",
       "      <th>id</th>\n",
       "      <th></th>\n",
       "      <th></th>\n",
       "      <th></th>\n",
       "      <th></th>\n",
       "      <th></th>\n",
       "      <th></th>\n",
       "      <th></th>\n",
       "      <th></th>\n",
       "      <th></th>\n",
       "      <th></th>\n",
       "      <th></th>\n",
       "      <th></th>\n",
       "      <th></th>\n",
       "      <th></th>\n",
       "      <th></th>\n",
       "      <th></th>\n",
       "      <th></th>\n",
       "      <th></th>\n",
       "      <th></th>\n",
       "      <th></th>\n",
       "      <th></th>\n",
       "    </tr>\n",
       "  </thead>\n",
       "  <tbody>\n",
       "    <tr>\n",
       "      <th>1</th>\n",
       "      <td>True</td>\n",
       "      <td>0.370594</td>\n",
       "      <td>0.424389</td>\n",
       "      <td>0.405750</td>\n",
       "      <td>0.601457</td>\n",
       "      <td>0.601457</td>\n",
       "      <td>0.998969</td>\n",
       "      <td>0.796887</td>\n",
       "      <td>0.808809</td>\n",
       "      <td>0.302646</td>\n",
       "      <td>...</td>\n",
       "      <td>0.716845</td>\n",
       "      <td>0.009219</td>\n",
       "      <td>0.622879</td>\n",
       "      <td>0.601453</td>\n",
       "      <td>0.827890</td>\n",
       "      <td>0.290202</td>\n",
       "      <td>0.026601</td>\n",
       "      <td>0.564050</td>\n",
       "      <td>1</td>\n",
       "      <td>0.016469</td>\n",
       "    </tr>\n",
       "    <tr>\n",
       "      <th>2</th>\n",
       "      <td>True</td>\n",
       "      <td>0.464291</td>\n",
       "      <td>0.538214</td>\n",
       "      <td>0.516730</td>\n",
       "      <td>0.610235</td>\n",
       "      <td>0.610235</td>\n",
       "      <td>0.998946</td>\n",
       "      <td>0.797380</td>\n",
       "      <td>0.809301</td>\n",
       "      <td>0.303556</td>\n",
       "      <td>...</td>\n",
       "      <td>0.795297</td>\n",
       "      <td>0.008323</td>\n",
       "      <td>0.623652</td>\n",
       "      <td>0.610237</td>\n",
       "      <td>0.839969</td>\n",
       "      <td>0.283846</td>\n",
       "      <td>0.264577</td>\n",
       "      <td>0.570175</td>\n",
       "      <td>1</td>\n",
       "      <td>0.020794</td>\n",
       "    </tr>\n",
       "    <tr>\n",
       "      <th>3</th>\n",
       "      <td>True</td>\n",
       "      <td>0.426071</td>\n",
       "      <td>0.499019</td>\n",
       "      <td>0.472295</td>\n",
       "      <td>0.601450</td>\n",
       "      <td>0.601364</td>\n",
       "      <td>0.998857</td>\n",
       "      <td>0.796403</td>\n",
       "      <td>0.808388</td>\n",
       "      <td>0.302035</td>\n",
       "      <td>...</td>\n",
       "      <td>0.774670</td>\n",
       "      <td>0.040003</td>\n",
       "      <td>0.623841</td>\n",
       "      <td>0.601449</td>\n",
       "      <td>0.836774</td>\n",
       "      <td>0.290189</td>\n",
       "      <td>0.026555</td>\n",
       "      <td>0.563706</td>\n",
       "      <td>1</td>\n",
       "      <td>0.016474</td>\n",
       "    </tr>\n",
       "    <tr>\n",
       "      <th>4</th>\n",
       "      <td>True</td>\n",
       "      <td>0.399844</td>\n",
       "      <td>0.451265</td>\n",
       "      <td>0.457733</td>\n",
       "      <td>0.583541</td>\n",
       "      <td>0.583541</td>\n",
       "      <td>0.998700</td>\n",
       "      <td>0.796967</td>\n",
       "      <td>0.808966</td>\n",
       "      <td>0.303350</td>\n",
       "      <td>...</td>\n",
       "      <td>0.739555</td>\n",
       "      <td>0.003252</td>\n",
       "      <td>0.622929</td>\n",
       "      <td>0.583538</td>\n",
       "      <td>0.834697</td>\n",
       "      <td>0.281721</td>\n",
       "      <td>0.026697</td>\n",
       "      <td>0.564663</td>\n",
       "      <td>1</td>\n",
       "      <td>0.023982</td>\n",
       "    </tr>\n",
       "    <tr>\n",
       "      <th>5</th>\n",
       "      <td>True</td>\n",
       "      <td>0.465022</td>\n",
       "      <td>0.538432</td>\n",
       "      <td>0.522298</td>\n",
       "      <td>0.598783</td>\n",
       "      <td>0.598783</td>\n",
       "      <td>0.998973</td>\n",
       "      <td>0.797366</td>\n",
       "      <td>0.809304</td>\n",
       "      <td>0.303475</td>\n",
       "      <td>...</td>\n",
       "      <td>0.795016</td>\n",
       "      <td>0.003878</td>\n",
       "      <td>0.623521</td>\n",
       "      <td>0.598782</td>\n",
       "      <td>0.839973</td>\n",
       "      <td>0.278514</td>\n",
       "      <td>0.024752</td>\n",
       "      <td>0.575617</td>\n",
       "      <td>1</td>\n",
       "      <td>0.035490</td>\n",
       "    </tr>\n",
       "  </tbody>\n",
       "</table>\n",
       "<p>5 rows × 96 columns</p>\n",
       "</div>"
      ],
      "text/plain": [
       "    bankrupt    feat_1    feat_2    feat_3    feat_4    feat_5    feat_6  \\\n",
       "id                                                                         \n",
       "1       True  0.370594  0.424389  0.405750  0.601457  0.601457  0.998969   \n",
       "2       True  0.464291  0.538214  0.516730  0.610235  0.610235  0.998946   \n",
       "3       True  0.426071  0.499019  0.472295  0.601450  0.601364  0.998857   \n",
       "4       True  0.399844  0.451265  0.457733  0.583541  0.583541  0.998700   \n",
       "5       True  0.465022  0.538432  0.522298  0.598783  0.598783  0.998973   \n",
       "\n",
       "      feat_7    feat_8    feat_9  ...   feat_86   feat_87   feat_88   feat_89  \\\n",
       "id                                ...                                           \n",
       "1   0.796887  0.808809  0.302646  ...  0.716845  0.009219  0.622879  0.601453   \n",
       "2   0.797380  0.809301  0.303556  ...  0.795297  0.008323  0.623652  0.610237   \n",
       "3   0.796403  0.808388  0.302035  ...  0.774670  0.040003  0.623841  0.601449   \n",
       "4   0.796967  0.808966  0.303350  ...  0.739555  0.003252  0.622929  0.583538   \n",
       "5   0.797366  0.809304  0.303475  ...  0.795016  0.003878  0.623521  0.598782   \n",
       "\n",
       "     feat_90   feat_91   feat_92   feat_93  feat_94   feat_95  \n",
       "id                                                             \n",
       "1   0.827890  0.290202  0.026601  0.564050        1  0.016469  \n",
       "2   0.839969  0.283846  0.264577  0.570175        1  0.020794  \n",
       "3   0.836774  0.290189  0.026555  0.563706        1  0.016474  \n",
       "4   0.834697  0.281721  0.026697  0.564663        1  0.023982  \n",
       "5   0.839973  0.278514  0.024752  0.575617        1  0.035490  \n",
       "\n",
       "[5 rows x 96 columns]"
      ]
     },
     "execution_count": 9,
     "metadata": {},
     "output_type": "execute_result"
    }
   ],
   "source": [
    "df =wrangle(\"data/taiwan-bankruptcy-data.json.gz\")\n",
    "print(\"df shape:\", df.shape)\n",
    "df.head()"
   ]
  },
  {
   "cell_type": "markdown",
   "id": "21dff117-59fd-4b60-958e-4f9e91d5db6e",
   "metadata": {
    "deletable": false,
    "editable": false
   },
   "source": [
    "## Explore"
   ]
  },
  {
   "cell_type": "markdown",
   "id": "02d5c558-b7d7-43ff-b646-f4e14db22a06",
   "metadata": {},
   "source": [
    "Is there any missing data in the dataset? Create a Series where the index contains the name of the columns in `df` and the values are the number of <code>NaN</code>s in each column. Assign the result to <code>nans_by_col</code>. Neither the Series itself nor its index require a name. "
   ]
  },
  {
   "cell_type": "code",
   "execution_count": 10,
   "id": "ea7b8cc7-c7fb-4a16-bbf3-ce488fdf1813",
   "metadata": {
    "collapsed": true,
    "jupyter": {
     "outputs_hidden": true
    },
    "tags": []
   },
   "outputs": [
    {
     "name": "stdout",
     "output_type": "stream",
     "text": [
      "<class 'pandas.core.frame.DataFrame'>\n",
      "Int64Index: 6137 entries, 1 to 6819\n",
      "Data columns (total 96 columns):\n",
      " #   Column    Non-Null Count  Dtype  \n",
      "---  ------    --------------  -----  \n",
      " 0   bankrupt  6137 non-null   bool   \n",
      " 1   feat_1    6137 non-null   float64\n",
      " 2   feat_2    6137 non-null   float64\n",
      " 3   feat_3    6137 non-null   float64\n",
      " 4   feat_4    6137 non-null   float64\n",
      " 5   feat_5    6137 non-null   float64\n",
      " 6   feat_6    6137 non-null   float64\n",
      " 7   feat_7    6137 non-null   float64\n",
      " 8   feat_8    6137 non-null   float64\n",
      " 9   feat_9    6137 non-null   float64\n",
      " 10  feat_10   6137 non-null   float64\n",
      " 11  feat_11   6137 non-null   float64\n",
      " 12  feat_12   6137 non-null   float64\n",
      " 13  feat_13   6137 non-null   float64\n",
      " 14  feat_14   6137 non-null   float64\n",
      " 15  feat_15   6137 non-null   float64\n",
      " 16  feat_16   6137 non-null   float64\n",
      " 17  feat_17   6137 non-null   float64\n",
      " 18  feat_18   6137 non-null   float64\n",
      " 19  feat_19   6137 non-null   float64\n",
      " 20  feat_20   6137 non-null   float64\n",
      " 21  feat_21   6137 non-null   float64\n",
      " 22  feat_22   6137 non-null   float64\n",
      " 23  feat_23   6137 non-null   float64\n",
      " 24  feat_24   6137 non-null   float64\n",
      " 25  feat_25   6137 non-null   float64\n",
      " 26  feat_26   6137 non-null   float64\n",
      " 27  feat_27   6137 non-null   float64\n",
      " 28  feat_28   6137 non-null   float64\n",
      " 29  feat_29   6137 non-null   float64\n",
      " 30  feat_30   6137 non-null   float64\n",
      " 31  feat_31   6137 non-null   float64\n",
      " 32  feat_32   6137 non-null   float64\n",
      " 33  feat_33   6137 non-null   float64\n",
      " 34  feat_34   6137 non-null   float64\n",
      " 35  feat_35   6137 non-null   float64\n",
      " 36  feat_36   6137 non-null   float64\n",
      " 37  feat_37   6137 non-null   float64\n",
      " 38  feat_38   6137 non-null   float64\n",
      " 39  feat_39   6137 non-null   float64\n",
      " 40  feat_40   6137 non-null   float64\n",
      " 41  feat_41   6137 non-null   float64\n",
      " 42  feat_42   6137 non-null   float64\n",
      " 43  feat_43   6137 non-null   float64\n",
      " 44  feat_44   6137 non-null   float64\n",
      " 45  feat_45   6137 non-null   float64\n",
      " 46  feat_46   6137 non-null   float64\n",
      " 47  feat_47   6137 non-null   float64\n",
      " 48  feat_48   6137 non-null   float64\n",
      " 49  feat_49   6137 non-null   float64\n",
      " 50  feat_50   6137 non-null   float64\n",
      " 51  feat_51   6137 non-null   float64\n",
      " 52  feat_52   6137 non-null   float64\n",
      " 53  feat_53   6137 non-null   float64\n",
      " 54  feat_54   6137 non-null   float64\n",
      " 55  feat_55   6137 non-null   float64\n",
      " 56  feat_56   6137 non-null   float64\n",
      " 57  feat_57   6137 non-null   float64\n",
      " 58  feat_58   6137 non-null   float64\n",
      " 59  feat_59   6137 non-null   float64\n",
      " 60  feat_60   6137 non-null   float64\n",
      " 61  feat_61   6137 non-null   float64\n",
      " 62  feat_62   6137 non-null   float64\n",
      " 63  feat_63   6137 non-null   float64\n",
      " 64  feat_64   6137 non-null   float64\n",
      " 65  feat_65   6137 non-null   float64\n",
      " 66  feat_66   6137 non-null   float64\n",
      " 67  feat_67   6137 non-null   float64\n",
      " 68  feat_68   6137 non-null   float64\n",
      " 69  feat_69   6137 non-null   float64\n",
      " 70  feat_70   6137 non-null   float64\n",
      " 71  feat_71   6137 non-null   float64\n",
      " 72  feat_72   6137 non-null   float64\n",
      " 73  feat_73   6137 non-null   float64\n",
      " 74  feat_74   6137 non-null   float64\n",
      " 75  feat_75   6137 non-null   float64\n",
      " 76  feat_76   6137 non-null   float64\n",
      " 77  feat_77   6137 non-null   float64\n",
      " 78  feat_78   6137 non-null   float64\n",
      " 79  feat_79   6137 non-null   float64\n",
      " 80  feat_80   6137 non-null   float64\n",
      " 81  feat_81   6137 non-null   float64\n",
      " 82  feat_82   6137 non-null   float64\n",
      " 83  feat_83   6137 non-null   float64\n",
      " 84  feat_84   6137 non-null   float64\n",
      " 85  feat_85   6137 non-null   int64  \n",
      " 86  feat_86   6137 non-null   float64\n",
      " 87  feat_87   6137 non-null   float64\n",
      " 88  feat_88   6137 non-null   float64\n",
      " 89  feat_89   6137 non-null   float64\n",
      " 90  feat_90   6137 non-null   float64\n",
      " 91  feat_91   6137 non-null   float64\n",
      " 92  feat_92   6137 non-null   float64\n",
      " 93  feat_93   6137 non-null   float64\n",
      " 94  feat_94   6137 non-null   int64  \n",
      " 95  feat_95   6137 non-null   float64\n",
      "dtypes: bool(1), float64(93), int64(2)\n",
      "memory usage: 4.5 MB\n"
     ]
    }
   ],
   "source": [
    "df.info()"
   ]
  },
  {
   "cell_type": "code",
   "execution_count": 11,
   "id": "3177f6b9-80ca-4837-b236-0c9d6d1cf589",
   "metadata": {
    "deletable": false,
    "tags": []
   },
   "outputs": [
    {
     "name": "stdout",
     "output_type": "stream",
     "text": [
      "nans_by_col shape: (96,)\n"
     ]
    },
    {
     "data": {
      "text/plain": [
       "bankrupt    0\n",
       "feat_1      0\n",
       "feat_2      0\n",
       "feat_3      0\n",
       "feat_4      0\n",
       "dtype: int64"
      ]
     },
     "execution_count": 11,
     "metadata": {},
     "output_type": "execute_result"
    }
   ],
   "source": [
    "nans_by_col = pd.Series((df.isnull().sum()), index = df.columns)\n",
    "print(\"nans_by_col shape:\", nans_by_col.shape)\n",
    "nans_by_col.head()"
   ]
  },
  {
   "cell_type": "markdown",
   "id": "9cb1aa5a-9ea0-4e99-8bba-ba843ca987f5",
   "metadata": {},
   "source": [
    "Is the data imbalanced? Create a bar chart that shows the normalized value counts for the column `df[\"bankrupt\"]`. Be sure to label your x-axis `\"Bankrupt\"`, your y-axis `\"Frequency\"`, and use the title `\"Class Balance\"`."
   ]
  },
  {
   "cell_type": "code",
   "execution_count": 12,
   "id": "6a2a5fe0-a1cd-48a5-84ee-525e7fc4cc44",
   "metadata": {
    "deletable": false
   },
   "outputs": [
    {
     "data": {
      "image/png": "[encoded data removed]",
      "text/plain": [
       "<Figure size 432x288 with 1 Axes>"
      ]
     },
     "metadata": {
      "needs_background": "light"
     },
     "output_type": "display_data"
    }
   ],
   "source": [
    "# Plot class balance\n",
    "df[\"bankrupt\"].value_counts(normalize = True).plot(\n",
    "    kind = \"bar\",\n",
    "    xlabel = \"Bankrupt\",\n",
    "    ylabel = \"Frequency\",\n",
    "    title = \"Class Balance\"\n",
    ");"
   ]
  },
  {
   "cell_type": "markdown",
   "id": "47242176-15c2-4e50-981a-4a2791e6ea5f",
   "metadata": {
    "deletable": false,
    "editable": false
   },
   "source": [
    "## Split"
   ]
  },
  {
   "cell_type": "markdown",
   "id": "e941ed58-7723-4def-8b0d-24b8b3447c9b",
   "metadata": {},
   "source": [
    "Create your feature matrix `X` and target vector `y`. Your target is `\"bankrupt\"`. "
   ]
  },
  {
   "cell_type": "code",
   "execution_count": 14,
   "id": "feeb0205-bdd2-493a-aaa9-a5fe4fa030a7",
   "metadata": {
    "deletable": false
   },
   "outputs": [
    {
     "name": "stdout",
     "output_type": "stream",
     "text": [
      "X shape: (6137, 95)\n",
      "y shape: (6137,)\n"
     ]
    }
   ],
   "source": [
    "target = \"bankrupt\"\n",
    "X = df.drop(columns = [target])\n",
    "y = df[target]\n",
    "print(\"X shape:\", X.shape)\n",
    "print(\"y shape:\", y.shape)"
   ]
  },
  {
   "cell_type": "markdown",
   "id": "b0e5791a-ed64-485e-85cc-998340b3c162",
   "metadata": {},
   "source": [
    "Divide your dataset into training and test sets using a randomized split. Your test set should be 20% of your data. We will set `random_state` to `42`."
   ]
  },
  {
   "cell_type": "code",
   "execution_count": 15,
   "id": "31d44df7-8211-4066-a399-6c31c1b0864c",
   "metadata": {
    "deletable": false
   },
   "outputs": [
    {
     "name": "stdout",
     "output_type": "stream",
     "text": [
      "X_train shape: (4909, 95)\n",
      "y_train shape: (4909,)\n",
      "X_test shape: (4909, 95)\n",
      "y_test shape: (4909,)\n"
     ]
    }
   ],
   "source": [
    "X_train, X_test, y_train, y_test = train_test_split(\n",
    "    X, y, test_size = 0.2, random_state = 42\n",
    ")\n",
    "print(\"X_train shape:\", X_train.shape)\n",
    "print(\"y_train shape:\", y_train.shape)\n",
    "print(\"X_test shape:\", X_train.shape)\n",
    "print(\"y_test shape:\", y_train.shape)"
   ]
  },
  {
   "cell_type": "markdown",
   "id": "3b51378d-7f0a-4109-861c-1cbbbcbff707",
   "metadata": {
    "deletable": false,
    "editable": false
   },
   "source": [
    "## Resample"
   ]
  },
  {
   "cell_type": "markdown",
   "id": "b4ba1574-15ea-49e8-abe0-13adde0d1513",
   "metadata": {},
   "source": [
    "Create a new feature matrix `X_train_over` and target vector `y_train_over` by performing random over-sampling on the training data. Be sure to set the `random_state` to `42`."
   ]
  },
  {
   "cell_type": "code",
   "execution_count": 16,
   "id": "40d10781-032f-4b17-9f3b-e4919dbb3af5",
   "metadata": {
    "deletable": false
   },
   "outputs": [
    {
     "name": "stdout",
     "output_type": "stream",
     "text": [
      "X_train_over shape: (9512, 95)\n"
     ]
    },
    {
     "data": {
      "text/html": [
       "<div>\n",
       "<style scoped>\n",
       "    .dataframe tbody tr th:only-of-type {\n",
       "        vertical-align: middle;\n",
       "    }\n",
       "\n",
       "    .dataframe tbody tr th {\n",
       "        vertical-align: top;\n",
       "    }\n",
       "\n",
       "    .dataframe thead th {\n",
       "        text-align: right;\n",
       "    }\n",
       "</style>\n",
       "<table border=\"1\" class=\"dataframe\">\n",
       "  <thead>\n",
       "    <tr style=\"text-align: right;\">\n",
       "      <th></th>\n",
       "      <th>feat_1</th>\n",
       "      <th>feat_2</th>\n",
       "      <th>feat_3</th>\n",
       "      <th>feat_4</th>\n",
       "      <th>feat_5</th>\n",
       "      <th>feat_6</th>\n",
       "      <th>feat_7</th>\n",
       "      <th>feat_8</th>\n",
       "      <th>feat_9</th>\n",
       "      <th>feat_10</th>\n",
       "      <th>...</th>\n",
       "      <th>feat_86</th>\n",
       "      <th>feat_87</th>\n",
       "      <th>feat_88</th>\n",
       "      <th>feat_89</th>\n",
       "      <th>feat_90</th>\n",
       "      <th>feat_91</th>\n",
       "      <th>feat_92</th>\n",
       "      <th>feat_93</th>\n",
       "      <th>feat_94</th>\n",
       "      <th>feat_95</th>\n",
       "    </tr>\n",
       "  </thead>\n",
       "  <tbody>\n",
       "    <tr>\n",
       "      <th>0</th>\n",
       "      <td>0.535855</td>\n",
       "      <td>0.599160</td>\n",
       "      <td>0.594411</td>\n",
       "      <td>0.627099</td>\n",
       "      <td>0.627099</td>\n",
       "      <td>0.999220</td>\n",
       "      <td>0.797686</td>\n",
       "      <td>0.809591</td>\n",
       "      <td>0.303518</td>\n",
       "      <td>0.781865</td>\n",
       "      <td>...</td>\n",
       "      <td>0.834091</td>\n",
       "      <td>0.022025</td>\n",
       "      <td>0.624364</td>\n",
       "      <td>0.627101</td>\n",
       "      <td>0.841977</td>\n",
       "      <td>0.275384</td>\n",
       "      <td>0.026791</td>\n",
       "      <td>0.565158</td>\n",
       "      <td>1</td>\n",
       "      <td>0.147943</td>\n",
       "    </tr>\n",
       "    <tr>\n",
       "      <th>1</th>\n",
       "      <td>0.554136</td>\n",
       "      <td>0.612734</td>\n",
       "      <td>0.595000</td>\n",
       "      <td>0.607388</td>\n",
       "      <td>0.607388</td>\n",
       "      <td>0.999120</td>\n",
       "      <td>0.797614</td>\n",
       "      <td>0.809483</td>\n",
       "      <td>0.303600</td>\n",
       "      <td>0.781754</td>\n",
       "      <td>...</td>\n",
       "      <td>0.840293</td>\n",
       "      <td>0.002407</td>\n",
       "      <td>0.624548</td>\n",
       "      <td>0.607385</td>\n",
       "      <td>0.842645</td>\n",
       "      <td>0.276532</td>\n",
       "      <td>0.026791</td>\n",
       "      <td>0.565158</td>\n",
       "      <td>1</td>\n",
       "      <td>0.062544</td>\n",
       "    </tr>\n",
       "    <tr>\n",
       "      <th>2</th>\n",
       "      <td>0.549554</td>\n",
       "      <td>0.603467</td>\n",
       "      <td>0.599122</td>\n",
       "      <td>0.620166</td>\n",
       "      <td>0.620166</td>\n",
       "      <td>0.999119</td>\n",
       "      <td>0.797569</td>\n",
       "      <td>0.809470</td>\n",
       "      <td>0.303524</td>\n",
       "      <td>0.781740</td>\n",
       "      <td>...</td>\n",
       "      <td>0.840403</td>\n",
       "      <td>0.000840</td>\n",
       "      <td>0.624010</td>\n",
       "      <td>0.620163</td>\n",
       "      <td>0.842873</td>\n",
       "      <td>0.277249</td>\n",
       "      <td>0.026800</td>\n",
       "      <td>0.565200</td>\n",
       "      <td>1</td>\n",
       "      <td>0.047929</td>\n",
       "    </tr>\n",
       "    <tr>\n",
       "      <th>3</th>\n",
       "      <td>0.543801</td>\n",
       "      <td>0.603249</td>\n",
       "      <td>0.606992</td>\n",
       "      <td>0.622515</td>\n",
       "      <td>0.622515</td>\n",
       "      <td>0.999259</td>\n",
       "      <td>0.797728</td>\n",
       "      <td>0.809649</td>\n",
       "      <td>0.303510</td>\n",
       "      <td>0.781930</td>\n",
       "      <td>...</td>\n",
       "      <td>0.831514</td>\n",
       "      <td>0.006176</td>\n",
       "      <td>0.626775</td>\n",
       "      <td>0.622513</td>\n",
       "      <td>0.842989</td>\n",
       "      <td>0.280013</td>\n",
       "      <td>0.026839</td>\n",
       "      <td>0.565375</td>\n",
       "      <td>1</td>\n",
       "      <td>0.028386</td>\n",
       "    </tr>\n",
       "    <tr>\n",
       "      <th>4</th>\n",
       "      <td>0.498659</td>\n",
       "      <td>0.562364</td>\n",
       "      <td>0.546978</td>\n",
       "      <td>0.603670</td>\n",
       "      <td>0.603670</td>\n",
       "      <td>0.998904</td>\n",
       "      <td>0.797584</td>\n",
       "      <td>0.809459</td>\n",
       "      <td>0.304000</td>\n",
       "      <td>0.781713</td>\n",
       "      <td>...</td>\n",
       "      <td>0.811988</td>\n",
       "      <td>0.004256</td>\n",
       "      <td>0.623674</td>\n",
       "      <td>0.603669</td>\n",
       "      <td>0.841105</td>\n",
       "      <td>0.277628</td>\n",
       "      <td>0.026897</td>\n",
       "      <td>0.565618</td>\n",
       "      <td>1</td>\n",
       "      <td>0.043080</td>\n",
       "    </tr>\n",
       "  </tbody>\n",
       "</table>\n",
       "<p>5 rows × 95 columns</p>\n",
       "</div>"
      ],
      "text/plain": [
       "     feat_1    feat_2    feat_3    feat_4    feat_5    feat_6    feat_7  \\\n",
       "0  0.535855  0.599160  0.594411  0.627099  0.627099  0.999220  0.797686   \n",
       "1  0.554136  0.612734  0.595000  0.607388  0.607388  0.999120  0.797614   \n",
       "2  0.549554  0.603467  0.599122  0.620166  0.620166  0.999119  0.797569   \n",
       "3  0.543801  0.603249  0.606992  0.622515  0.622515  0.999259  0.797728   \n",
       "4  0.498659  0.562364  0.546978  0.603670  0.603670  0.998904  0.797584   \n",
       "\n",
       "     feat_8    feat_9   feat_10  ...   feat_86   feat_87   feat_88   feat_89  \\\n",
       "0  0.809591  0.303518  0.781865  ...  0.834091  0.022025  0.624364  0.627101   \n",
       "1  0.809483  0.303600  0.781754  ...  0.840293  0.002407  0.624548  0.607385   \n",
       "2  0.809470  0.303524  0.781740  ...  0.840403  0.000840  0.624010  0.620163   \n",
       "3  0.809649  0.303510  0.781930  ...  0.831514  0.006176  0.626775  0.622513   \n",
       "4  0.809459  0.304000  0.781713  ...  0.811988  0.004256  0.623674  0.603669   \n",
       "\n",
       "    feat_90   feat_91   feat_92   feat_93  feat_94   feat_95  \n",
       "0  0.841977  0.275384  0.026791  0.565158        1  0.147943  \n",
       "1  0.842645  0.276532  0.026791  0.565158        1  0.062544  \n",
       "2  0.842873  0.277249  0.026800  0.565200        1  0.047929  \n",
       "3  0.842989  0.280013  0.026839  0.565375        1  0.028386  \n",
       "4  0.841105  0.277628  0.026897  0.565618        1  0.043080  \n",
       "\n",
       "[5 rows x 95 columns]"
      ]
     },
     "execution_count": 16,
     "metadata": {},
     "output_type": "execute_result"
    }
   ],
   "source": [
    "over_sampler = RandomOverSampler(random_state = 42)\n",
    "X_train_over, y_train_over = over_sampler.fit_resample(X_train, y_train)\n",
    "print(\"X_train_over shape:\", X_train_over.shape)\n",
    "X_train_over.head()"
   ]
  },
  {
   "cell_type": "markdown",
   "id": "56432e44-2454-4811-828b-61887df09346",
   "metadata": {
    "deletable": false,
    "editable": false
   },
   "source": [
    "# Build Model"
   ]
  },
  {
   "cell_type": "markdown",
   "id": "3783e564-560e-432f-b49e-f2e585a865f8",
   "metadata": {
    "deletable": false,
    "editable": false
   },
   "source": [
    "## Iterate"
   ]
  },
  {
   "cell_type": "markdown",
   "id": "ef7c2d9d-08b1-4668-bf2e-e4910293dbe0",
   "metadata": {},
   "source": [
    "Create a classifier <code>clf</code> that can be trained on `(X_train_over, y_train_over)`. You can use any of the predictors you've learned about in the Data Science Lab. "
   ]
  },
  {
   "cell_type": "code",
   "execution_count": 17,
   "id": "b37aca3d-8a72-440e-a99c-e069f9850bd2",
   "metadata": {
    "deletable": false
   },
   "outputs": [],
   "source": [
    "clf = make_pipeline(SimpleImputer(), GradientBoostingClassifier())"
   ]
  },
  {
   "cell_type": "markdown",
   "id": "ff7a967c-756f-4c2d-998e-90b67e9918ac",
   "metadata": {},
   "source": [
    "Perform cross-validation with your classifier using the over-sampled training data, and assign your results to <code>cv_scores</code>. Be sure to set the <code>cv</code> argument to 5. "
   ]
  },
  {
   "cell_type": "code",
   "execution_count": 18,
   "id": "b4e861a8-c2ea-49b2-b789-0b3dbe586384",
   "metadata": {
    "deletable": false
   },
   "outputs": [
    {
     "name": "stdout",
     "output_type": "stream",
     "text": [
      "[0.96952181 0.97162375 0.96950578 0.97160883 0.96845426]\n"
     ]
    }
   ],
   "source": [
    "cv_scores = cross_val_score(clf, X_train_over, y_train_over, cv = 5, n_jobs = -1)\n",
    "print(cv_scores)"
   ]
  },
  {
   "cell_type": "markdown",
   "id": "bfd434c3-e5af-47f5-b169-8a78a4c9483d",
   "metadata": {},
   "source": [
    "Create a dictionary <code>params</code> with the range of hyperparameters that you want to evaluate for your classifier."
   ]
  },
  {
   "cell_type": "code",
   "execution_count": 19,
   "id": "dd75b82b-6b93-49f0-a329-175d75c56cfb",
   "metadata": {
    "deletable": false
   },
   "outputs": [
    {
     "data": {
      "text/plain": [
       "{'simpleimputer__strategy': ['mean', 'median'],\n",
       " 'gradientboostingclassifier__n_estimators': range(20, 31, 5),\n",
       " 'gradientboostingclassifier__max_depth': range(2, 5)}"
      ]
     },
     "execution_count": 19,
     "metadata": {},
     "output_type": "execute_result"
    }
   ],
   "source": [
    "params = {\n",
    "    \"simpleimputer__strategy\": [\"mean\", \"median\"],\n",
    "    \"gradientboostingclassifier__n_estimators\": range(20, 31, 5),\n",
    "    \"gradientboostingclassifier__max_depth\": range(2, 5)\n",
    "}\n",
    "params"
   ]
  },
  {
   "cell_type": "markdown",
   "id": "fc280d9a-3cd4-4ddb-9c93-01f9b84c748b",
   "metadata": {},
   "source": [
    "Create a <code>GridSearchCV</code> named `model` that includes your classifier and hyperparameter grid. Be sure to set `cv` to 5, `n_jobs` to -1, and `verbose` to 1. "
   ]
  },
  {
   "cell_type": "code",
   "execution_count": 20,
   "id": "28c7e9a9-0f16-418f-b299-f888df1d7f41",
   "metadata": {
    "deletable": false
   },
   "outputs": [
    {
     "data": {
      "text/plain": [
       "GridSearchCV(cv=5,\n",
       "             estimator=Pipeline(steps=[('simpleimputer', SimpleImputer()),\n",
       "                                       ('gradientboostingclassifier',\n",
       "                                        GradientBoostingClassifier())]),\n",
       "             n_jobs=-1,\n",
       "             param_grid={'gradientboostingclassifier__max_depth': range(2, 5),\n",
       "                         'gradientboostingclassifier__n_estimators': range(20, 31, 5),\n",
       "                         'simpleimputer__strategy': ['mean', 'median']},\n",
       "             verbose=1)"
      ]
     },
     "execution_count": 20,
     "metadata": {},
     "output_type": "execute_result"
    }
   ],
   "source": [
    "model =  GridSearchCV(\n",
    "    clf,\n",
    "    param_grid = params,\n",
    "    cv = 5,\n",
    "    n_jobs = -1,\n",
    "    verbose = 1\n",
    ")\n",
    "model"
   ]
  },
  {
   "cell_type": "markdown",
   "id": "10252f2b-c9cc-4e25-960e-e88e5a13aaa7",
   "metadata": {},
   "source": [
    "Fit model to the over-sampled training data. "
   ]
  },
  {
   "cell_type": "code",
   "execution_count": 22,
   "id": "ede4b08f-12b6-4f02-91ec-43917193adf3",
   "metadata": {
    "deletable": false,
    "tags": []
   },
   "outputs": [
    {
     "name": "stdout",
     "output_type": "stream",
     "text": [
      "Fitting 5 folds for each of 18 candidates, totalling 90 fits\n"
     ]
    },
    {
     "data": {
      "text/plain": [
       "GridSearchCV(cv=5,\n",
       "             estimator=Pipeline(steps=[('simpleimputer', SimpleImputer()),\n",
       "                                       ('gradientboostingclassifier',\n",
       "                                        GradientBoostingClassifier())]),\n",
       "             n_jobs=-1,\n",
       "             param_grid={'gradientboostingclassifier__max_depth': range(2, 5),\n",
       "                         'gradientboostingclassifier__n_estimators': range(20, 31, 5),\n",
       "                         'simpleimputer__strategy': ['mean', 'median']},\n",
       "             verbose=1)"
      ]
     },
     "execution_count": 22,
     "metadata": {},
     "output_type": "execute_result"
    }
   ],
   "source": [
    "model.fit(X_train_over, y_train_over)"
   ]
  },
  {
   "cell_type": "markdown",
   "id": "053c6eea-f08a-4699-8502-3099f2ba6422",
   "metadata": {},
   "source": [
    "Extract the cross-validation results from your model, and load them into a DataFrame named <code>cv_results</code>. Looking at the results, which set of hyperparameters led to the best performance?"
   ]
  },
  {
   "cell_type": "code",
   "execution_count": 23,
   "id": "47e2ba81-a16c-4563-bb45-885eba3dc953",
   "metadata": {
    "deletable": false
   },
   "outputs": [
    {
     "data": {
      "text/html": [
       "<div>\n",
       "<style scoped>\n",
       "    .dataframe tbody tr th:only-of-type {\n",
       "        vertical-align: middle;\n",
       "    }\n",
       "\n",
       "    .dataframe tbody tr th {\n",
       "        vertical-align: top;\n",
       "    }\n",
       "\n",
       "    .dataframe thead th {\n",
       "        text-align: right;\n",
       "    }\n",
       "</style>\n",
       "<table border=\"1\" class=\"dataframe\">\n",
       "  <thead>\n",
       "    <tr style=\"text-align: right;\">\n",
       "      <th></th>\n",
       "      <th>mean_fit_time</th>\n",
       "      <th>std_fit_time</th>\n",
       "      <th>mean_score_time</th>\n",
       "      <th>std_score_time</th>\n",
       "      <th>param_gradientboostingclassifier__max_depth</th>\n",
       "      <th>param_gradientboostingclassifier__n_estimators</th>\n",
       "      <th>param_simpleimputer__strategy</th>\n",
       "      <th>params</th>\n",
       "      <th>split0_test_score</th>\n",
       "      <th>split1_test_score</th>\n",
       "      <th>split2_test_score</th>\n",
       "      <th>split3_test_score</th>\n",
       "      <th>split4_test_score</th>\n",
       "      <th>mean_test_score</th>\n",
       "      <th>std_test_score</th>\n",
       "      <th>rank_test_score</th>\n",
       "    </tr>\n",
       "  </thead>\n",
       "  <tbody>\n",
       "    <tr>\n",
       "      <th>0</th>\n",
       "      <td>4.174273</td>\n",
       "      <td>0.039548</td>\n",
       "      <td>0.005576</td>\n",
       "      <td>0.000112</td>\n",
       "      <td>2</td>\n",
       "      <td>20</td>\n",
       "      <td>mean</td>\n",
       "      <td>{'gradientboostingclassifier__max_depth': 2, '...</td>\n",
       "      <td>0.909616</td>\n",
       "      <td>0.897530</td>\n",
       "      <td>0.903260</td>\n",
       "      <td>0.905363</td>\n",
       "      <td>0.906414</td>\n",
       "      <td>0.904437</td>\n",
       "      <td>0.004017</td>\n",
       "      <td>17</td>\n",
       "    </tr>\n",
       "    <tr>\n",
       "      <th>1</th>\n",
       "      <td>4.308223</td>\n",
       "      <td>0.052475</td>\n",
       "      <td>0.017838</td>\n",
       "      <td>0.024269</td>\n",
       "      <td>2</td>\n",
       "      <td>20</td>\n",
       "      <td>median</td>\n",
       "      <td>{'gradientboostingclassifier__max_depth': 2, '...</td>\n",
       "      <td>0.909616</td>\n",
       "      <td>0.897530</td>\n",
       "      <td>0.903260</td>\n",
       "      <td>0.905363</td>\n",
       "      <td>0.906414</td>\n",
       "      <td>0.904437</td>\n",
       "      <td>0.004017</td>\n",
       "      <td>17</td>\n",
       "    </tr>\n",
       "    <tr>\n",
       "      <th>2</th>\n",
       "      <td>5.191271</td>\n",
       "      <td>0.007465</td>\n",
       "      <td>0.005630</td>\n",
       "      <td>0.000251</td>\n",
       "      <td>2</td>\n",
       "      <td>25</td>\n",
       "      <td>mean</td>\n",
       "      <td>{'gradientboostingclassifier__max_depth': 2, '...</td>\n",
       "      <td>0.912769</td>\n",
       "      <td>0.913820</td>\n",
       "      <td>0.917455</td>\n",
       "      <td>0.913775</td>\n",
       "      <td>0.912198</td>\n",
       "      <td>0.914004</td>\n",
       "      <td>0.001832</td>\n",
       "      <td>15</td>\n",
       "    </tr>\n",
       "    <tr>\n",
       "      <th>3</th>\n",
       "      <td>5.357866</td>\n",
       "      <td>0.047035</td>\n",
       "      <td>0.005655</td>\n",
       "      <td>0.000101</td>\n",
       "      <td>2</td>\n",
       "      <td>25</td>\n",
       "      <td>median</td>\n",
       "      <td>{'gradientboostingclassifier__max_depth': 2, '...</td>\n",
       "      <td>0.912769</td>\n",
       "      <td>0.913820</td>\n",
       "      <td>0.917455</td>\n",
       "      <td>0.913775</td>\n",
       "      <td>0.912198</td>\n",
       "      <td>0.914004</td>\n",
       "      <td>0.001832</td>\n",
       "      <td>15</td>\n",
       "    </tr>\n",
       "    <tr>\n",
       "      <th>4</th>\n",
       "      <td>6.218677</td>\n",
       "      <td>0.041074</td>\n",
       "      <td>0.005989</td>\n",
       "      <td>0.000313</td>\n",
       "      <td>2</td>\n",
       "      <td>30</td>\n",
       "      <td>mean</td>\n",
       "      <td>{'gradientboostingclassifier__max_depth': 2, '...</td>\n",
       "      <td>0.923279</td>\n",
       "      <td>0.917499</td>\n",
       "      <td>0.916930</td>\n",
       "      <td>0.923239</td>\n",
       "      <td>0.919558</td>\n",
       "      <td>0.920101</td>\n",
       "      <td>0.002723</td>\n",
       "      <td>13</td>\n",
       "    </tr>\n",
       "  </tbody>\n",
       "</table>\n",
       "</div>"
      ],
      "text/plain": [
       "   mean_fit_time  std_fit_time  mean_score_time  std_score_time  \\\n",
       "0       4.174273      0.039548         0.005576        0.000112   \n",
       "1       4.308223      0.052475         0.017838        0.024269   \n",
       "2       5.191271      0.007465         0.005630        0.000251   \n",
       "3       5.357866      0.047035         0.005655        0.000101   \n",
       "4       6.218677      0.041074         0.005989        0.000313   \n",
       "\n",
       "  param_gradientboostingclassifier__max_depth  \\\n",
       "0                                           2   \n",
       "1                                           2   \n",
       "2                                           2   \n",
       "3                                           2   \n",
       "4                                           2   \n",
       "\n",
       "  param_gradientboostingclassifier__n_estimators  \\\n",
       "0                                             20   \n",
       "1                                             20   \n",
       "2                                             25   \n",
       "3                                             25   \n",
       "4                                             30   \n",
       "\n",
       "  param_simpleimputer__strategy  \\\n",
       "0                          mean   \n",
       "1                        median   \n",
       "2                          mean   \n",
       "3                        median   \n",
       "4                          mean   \n",
       "\n",
       "                                              params  split0_test_score  \\\n",
       "0  {'gradientboostingclassifier__max_depth': 2, '...           0.909616   \n",
       "1  {'gradientboostingclassifier__max_depth': 2, '...           0.909616   \n",
       "2  {'gradientboostingclassifier__max_depth': 2, '...           0.912769   \n",
       "3  {'gradientboostingclassifier__max_depth': 2, '...           0.912769   \n",
       "4  {'gradientboostingclassifier__max_depth': 2, '...           0.923279   \n",
       "\n",
       "   split1_test_score  split2_test_score  split3_test_score  split4_test_score  \\\n",
       "0           0.897530           0.903260           0.905363           0.906414   \n",
       "1           0.897530           0.903260           0.905363           0.906414   \n",
       "2           0.913820           0.917455           0.913775           0.912198   \n",
       "3           0.913820           0.917455           0.913775           0.912198   \n",
       "4           0.917499           0.916930           0.923239           0.919558   \n",
       "\n",
       "   mean_test_score  std_test_score  rank_test_score  \n",
       "0         0.904437        0.004017               17  \n",
       "1         0.904437        0.004017               17  \n",
       "2         0.914004        0.001832               15  \n",
       "3         0.914004        0.001832               15  \n",
       "4         0.920101        0.002723               13  "
      ]
     },
     "execution_count": 23,
     "metadata": {},
     "output_type": "execute_result"
    }
   ],
   "source": [
    "cv_results = pd.DataFrame(model.cv_results_)\n",
    "cv_results.head(5)"
   ]
  },
  {
   "cell_type": "markdown",
   "id": "3664fb33-2b5d-426d-af7f-0daa582575cc",
   "metadata": {},
   "source": [
    "Extract the best hyperparameters from your model and assign them to <code>best_params</code>. "
   ]
  },
  {
   "cell_type": "code",
   "execution_count": 25,
   "id": "5bca6dd7-0711-4a4c-8c10-848bbdbba92c",
   "metadata": {
    "deletable": false
   },
   "outputs": [
    {
     "name": "stdout",
     "output_type": "stream",
     "text": [
      "{'gradientboostingclassifier__max_depth': 4, 'gradientboostingclassifier__n_estimators': 30, 'simpleimputer__strategy': 'mean'}\n"
     ]
    }
   ],
   "source": [
    "best_params = model.best_params_\n",
    "print(best_params)"
   ]
  },
  {
   "cell_type": "markdown",
   "id": "6dbab4ae-2376-4a5a-b92e-ccd4bd39ec88",
   "metadata": {
    "deletable": false,
    "editable": false
   },
   "source": [
    "## Evaluate"
   ]
  },
  {
   "cell_type": "markdown",
   "id": "546758ef-9a65-4275-bdf8-0bd3e43c0b30",
   "metadata": {},
   "source": [
    "Test the quality of your model by calculating accuracy scores for the training and test data."
   ]
  },
  {
   "cell_type": "code",
   "execution_count": 27,
   "id": "428e0694-ede2-40ff-aa6f-9cb8665ce024",
   "metadata": {
    "deletable": false
   },
   "outputs": [
    {
     "name": "stdout",
     "output_type": "stream",
     "text": [
      "Model Training Accuracy: 0.9708\n",
      "Model Test Accuracy: 0.934\n"
     ]
    }
   ],
   "source": [
    "acc_train = model.score(X_train_over, y_train_over)\n",
    "acc_test = model.score(X_test, y_test)\n",
    "\n",
    "print(\"Model Training Accuracy:\", round(acc_train, 4))\n",
    "print(\"Model Test Accuracy:\", round(acc_test, 4))"
   ]
  },
  {
   "cell_type": "markdown",
   "id": "00e35b54-acc0-47ea-b053-75212c0b631c",
   "metadata": {},
   "source": [
    "Plot a confusion matrix that shows how your model performed on your test set."
   ]
  },
  {
   "cell_type": "code",
   "execution_count": 28,
   "id": "4d6875a6-62b7-4198-b8a2-5871dd7dd156",
   "metadata": {
    "deletable": false
   },
   "outputs": [
    {
     "data": {
      "image/png": "[encoded data removed]",
      "text/plain": [
       "<Figure size 432x288 with 2 Axes>"
      ]
     },
     "metadata": {
      "needs_background": "light"
     },
     "output_type": "display_data"
    }
   ],
   "source": [
    "ConfusionMatrixDisplay.from_estimator(model, X_test, y_test)"
   ]
  },
  {
   "cell_type": "markdown",
   "id": "5d31978d-b6d8-4397-a884-0ab6d9dc5ddb",
   "metadata": {},
   "source": [
    "Generate a classification report for your model's performance on the test data and assign it to `class_report`."
   ]
  },
  {
   "cell_type": "code",
   "execution_count": 30,
   "id": "0b04df35-1326-482b-b86c-489f3eeb992f",
   "metadata": {
    "deletable": false
   },
   "outputs": [
    {
     "name": "stdout",
     "output_type": "stream",
     "text": [
      "              precision    recall  f1-score   support\n",
      "\n",
      "       False       0.99      0.94      0.97      1191\n",
      "        True       0.28      0.78      0.42        37\n",
      "\n",
      "    accuracy                           0.93      1228\n",
      "   macro avg       0.64      0.86      0.69      1228\n",
      "weighted avg       0.97      0.93      0.95      1228\n",
      "\n"
     ]
    }
   ],
   "source": [
    "class_report = classification_report(y_test, model.predict(X_test))\n",
    "print(class_report)"
   ]
  },
  {
   "cell_type": "markdown",
   "id": "64153890-7c5d-4b8d-9265-08444c4c3068",
   "metadata": {
    "deletable": false,
    "editable": false
   },
   "source": [
    "# Communicate"
   ]
  },
  {
   "cell_type": "markdown",
   "id": "bd293667-cf33-4645-9a6d-6102fed6a8b8",
   "metadata": {},
   "source": [
    "Create a horizontal bar chart with the 10 most important features for your model. Be sure to label the x-axis `\"Gini Importance\"`, the y-axis `\"Feature\"`, and use the title `\"Feature Importance\"`."
   ]
  },
  {
   "cell_type": "code",
   "execution_count": 34,
   "id": "83d0044c-df83-4710-b631-64b8399f4be9",
   "metadata": {},
   "outputs": [
    {
     "data": {
      "text/plain": [
       "{'simpleimputer': SimpleImputer(),\n",
       " 'gradientboostingclassifier': GradientBoostingClassifier(max_depth=4, n_estimators=30)}"
      ]
     },
     "execution_count": 34,
     "metadata": {},
     "output_type": "execute_result"
    }
   ],
   "source": [
    "model.best_estimator_.named_steps"
   ]
  },
  {
   "cell_type": "code",
   "execution_count": 35,
   "id": "682d409c-30bd-43b2-8fa9-942b241b26f0",
   "metadata": {
    "deletable": false
   },
   "outputs": [
    {
     "data": {
      "image/png": "[encoded data removed]",
      "text/plain": [
       "<Figure size 432x288 with 1 Axes>"
      ]
     },
     "metadata": {
      "needs_background": "light"
     },
     "output_type": "display_data"
    }
   ],
   "source": [
    "features = X_train_over.columns\n",
    "# Extract importances from model\n",
    "importances = model.best_estimator_.named_steps[\"gradientboostingclassifier\"].feature_importances_\n",
    "# Create a series with feature names and importances\n",
    "feat_imp = pd.Series(importances, index = features).sort_values()\n",
    "# Plot 10 most important features\n",
    "feat_imp.tail(10).plot(kind = \"barh\")\n",
    "plt.xlabel(\"Gini Importance\")\n",
    "plt.ylabel(\"Feature\")\n",
    "plt.title(\"Feature Importance\");\n",
    "# Don't delete the code below 👇\n",
    "plt.savefig(\"images/5-5-17.png\", dpi=150)\n"
   ]
  },
  {
   "cell_type": "markdown",
   "id": "1edec385-98f2-4d33-95a6-72ee4378038c",
   "metadata": {},
   "source": [
    "Save your best-performing model to a a file named <code>\"model-5-5.pkl\"</code>."
   ]
  },
  {
   "cell_type": "code",
   "execution_count": 37,
   "id": "418d11d0-1f01-4f41-b248-7f9f6fd0bf55",
   "metadata": {
    "deletable": false
   },
   "outputs": [],
   "source": [
    "# Save model\n",
    "with open(\"model-5-5.pkl\", \"wb\") as f:\n",
    "    pickle.dump(model, f)"
   ]
  },
  {
   "cell_type": "markdown",
   "id": "93cae90c-fdfd-4295-8bca-0a670185e86a",
   "metadata": {},
   "source": [
    "Open the file <code>my_predictor_assignment.py</code>. Add your `wrangle` function, and then create a `make_predictions` function that takes two arguments: `data_filepath` and <code>model_filepath</code>. Use the cell below to test your module. When you're satisfied with the result, submit it to the grader. "
   ]
  },
  {
   "cell_type": "code",
   "execution_count": 39,
   "id": "8708d162-ebf0-4f11-92f1-05f65088f576",
   "metadata": {
    "deletable": false
   },
   "outputs": [
    {
     "name": "stdout",
     "output_type": "stream",
     "text": [
      "predictions shape: (682,)\n"
     ]
    },
    {
     "data": {
      "text/plain": [
       "id\n",
       "18    False\n",
       "20    False\n",
       "24     True\n",
       "32     True\n",
       "38    False\n",
       "Name: bankrupt, dtype: bool"
      ]
     },
     "execution_count": 39,
     "metadata": {},
     "output_type": "execute_result"
    }
   ],
   "source": [
    "# Import your module\n",
    "from my_predictor_assignment import wrangle, make_predictions\n",
    "\n",
    "# Generate predictions\n",
    "y_test_pred = make_predictions(\n",
    "    data_filepath=\"data/taiwan-bankruptcy-data-test-features.json.gz\",\n",
    "    model_filepath=\"model-5-5.pkl\",\n",
    ")\n",
    "\n",
    "print(\"predictions shape:\", y_test_pred.shape)\n",
    "y_test_pred.head()"
   ]
  }
 ],
 "metadata": {
  "kernelspec": {
   "display_name": "Python 3",
   "language": "python",
   "name": "python3"
  },
  "language_info": {
   "codemirror_mode": {
    "name": "ipython",
    "version": 3
   },
   "file_extension": ".py",
   "mimetype": "text/x-python",
   "name": "python",
   "nbconvert_exporter": "python",
   "pygments_lexer": "ipython3",
   "version": "3.7.13"
  },
  "toc-autonumbering": false
 },
 "nbformat": 4,
 "nbformat_minor": 5
}
